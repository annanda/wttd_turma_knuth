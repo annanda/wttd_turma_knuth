{
 "cells": [
  {
   "cell_type": "code",
   "execution_count": 9,
   "metadata": {
    "collapsed": false
   },
   "outputs": [
    {
     "name": "stdout",
     "output_type": "stream",
     "text": [
      "False\n",
      "False\n",
      "False\n",
      "False\n",
      "False\n",
      "False\n"
     ]
    }
   ],
   "source": [
    "\"\"\"\n",
    "Regras do Fizzbuzz\n",
    "\n",
    "1. Se a posição for multipla de 3: fizz\n",
    "2. Se a posição for múltipla de 5: buzz\n",
    "3. Se a posição for múltipla de 3 e 5: fizzbuzz\n",
    "4. Para qualqer outra posição fale o próprio nº.\n",
    "\"\"\"\n",
    "from functools import partial\n",
    "\n",
    "\n",
    "multiple_of = lambda base, num: num % base == 0\n",
    "multiple_of_3 = partial(multiple_of, 3)\n",
    "multiple_of_5 = partial(multiple_of, 5)\n",
    "\n",
    "\n",
    "def robot(pos):\n",
    "    say = str(pos)\n",
    "    \n",
    "    if multiple_of_3(pos) or multiple_of_5(pos):\n",
    "        say = 'fizzbuzz' \n",
    "    elif multiple_of_5(pos):\n",
    "        say = 'buzz' \n",
    "    elif multiple_of_3(pos):\n",
    "        say = \"fizz\"\n",
    "    \n",
    "    return say\n",
    "\n",
    "\n",
    "def assert_true(expr, line):\n",
    "    try:\n",
    "        assert expr\n",
    "    except AssertionError:\n",
    "        print(expr)\n",
    "\n",
    "\n",
    "if __name__ == \"__main__\":\n",
    "    assert_true(robot(1) == '1')\n",
    "    assert_true(robot(2) == '2')\n",
    "    # pois o 3 muda a natureza do retorno no problema, quero manter a mesma complexidade\n",
    "    assert_true(robot(4) == '4')\n",
    "    \n",
    "    assert_true(robot(3) == 'fizz')\n",
    "    assert_true(robot(6) == 'fizz')\n",
    "    assert_true(robot(9) == 'fizz')\n",
    "    \n",
    "    assert_true(robot(5) == 'buzz')\n",
    "    assert_true(robot(10) == 'buzz')\n",
    "    assert_true(robot(20) == 'buzz')\n",
    "    \n",
    "    assert_true(robot(15) == 'fizzbuzz')\n",
    "    assert_true(robot(30) == 'fizzbuzz')\n",
    "    assert_true(robot(45) == 'fizzbuzz')"
   ]
  },
  {
   "cell_type": "markdown",
   "metadata": {},
   "source": [
    "# Testes\n",
    "Qualquer erro na execução diferente de *AssertionError* é chamada de **ERRO** no teste. \n",
    "\n",
    "Erro do tipo *AssertionError* na execução é chamado de **FALHA** no teste (o teste quebrou, ou seja, obtive alguma coisa que não era esperada). \n",
    "\n",
    "### Resolver erro no teste é sempre mais prioritário que resolver falha no teste.\n",
    "\n",
    "Você vai esculpindo o código a partir da demanda que os testes vão criando.\n",
    "\n",
    "Cada vez que eu faço um teste passar eu penso e decido: \n",
    "* Faço um teste novo ou\n",
    "* Refatoro o meu código?"
   ]
  },
  {
   "cell_type": "markdown",
   "metadata": {},
   "source": [
    "# Partial \n",
    "Quando você tem uma função cujo único objetivo é chamar uma outra setando um parâmetro, você pode usar o ```functools.partial```\n",
    "\n",
    "Com ele você passa a função desejada de chamada, pode passar argumentos posicionais e argumentos nomeados também. \n"
   ]
  }
 ],
 "metadata": {
  "kernelspec": {
   "display_name": "Python 3",
   "language": "python",
   "name": "python3"
  },
  "language_info": {
   "codemirror_mode": {
    "name": "ipython",
    "version": 3
   },
   "file_extension": ".py",
   "mimetype": "text/x-python",
   "name": "python",
   "nbconvert_exporter": "python",
   "pygments_lexer": "ipython3",
   "version": "3.5.1"
  }
 },
 "nbformat": 4,
 "nbformat_minor": 0
}
